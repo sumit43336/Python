{
 "cells": [
  {
   "cell_type": "markdown",
   "metadata": {},
   "source": [
    "# Understanding the PreProcessing"
   ]
  },
  {
   "cell_type": "code",
   "execution_count": 47,
   "metadata": {},
   "outputs": [
    {
     "name": "stdout",
     "output_type": "stream",
     "text": [
      "Original Data:\n",
      "    Age   Salary\n",
      "0  25.0  50000.0\n",
      "1   NaN  60000.0\n",
      "2  35.0      NaN\n",
      "3  29.0  45000.0\n",
      "4   NaN  55000.0\n"
     ]
    }
   ],
   "source": [
    "import pandas as pd\n",
    "\n",
    "# Creating a messy dataset\n",
    "data = {'Age': [25, None, 35, 29, None], 'Salary': [50000, 60000, None, 45000, 55000]}\n",
    "df = pd.DataFrame(data)\n",
    "\n",
    "print(\"Original Data:\")\n",
    "print(df)\n"
   ]
  },
  {
   "cell_type": "markdown",
   "metadata": {},
   "source": [
    "# Handeling Missing Value"
   ]
  },
  {
   "cell_type": "code",
   "execution_count": 48,
   "metadata": {},
   "outputs": [
    {
     "name": "stdout",
     "output_type": "stream",
     "text": [
      "Original Data:\n",
      "    Age   Salary\n",
      "0  25.0  50000.0\n",
      "1   NaN  60000.0\n",
      "2  35.0      NaN\n",
      "3  29.0  45000.0\n",
      "4   NaN  55000.0\n",
      "\n",
      "Data after dropping missing values:\n",
      "    Age   Salary\n",
      "0  25.0  50000.0\n",
      "3  29.0  45000.0\n",
      "\n",
      "Data after filling missing values with 0:\n",
      "    Age   Salary\n",
      "0  25.0  50000.0\n",
      "1   0.0  60000.0\n",
      "2  35.0      0.0\n",
      "3  29.0  45000.0\n",
      "4   0.0  55000.0\n",
      "\n",
      "Data after filling missing values with the mean:\n",
      "         Age   Salary\n",
      "0  25.000000  50000.0\n",
      "1  29.666667  60000.0\n",
      "2  35.000000  52500.0\n",
      "3  29.000000  45000.0\n",
      "4  29.666667  55000.0\n"
     ]
    }
   ],
   "source": [
    "import pandas as pd\n",
    "\n",
    "# Messy dataset\n",
    "data = {'Age': [25, None, 35, 29, None], 'Salary': [50000, 60000, None, 45000, 55000]}\n",
    "df = pd.DataFrame(data)\n",
    "\n",
    "print(\"Original Data:\")\n",
    "print(df)\n",
    "\n",
    "# Method 1: Remove rows with missing values\n",
    "cleaned_df = df.dropna()\n",
    "print(\"\\nData after dropping missing values:\")\n",
    "print(cleaned_df)\n",
    "\n",
    "# Method 2: Fill missing values with a fixed number (e.g., 0)\n",
    "filled_df = df.fillna(0)\n",
    "print(\"\\nData after filling missing values with 0:\")\n",
    "print(filled_df)\n",
    "\n",
    "# Method 3: Fill missing values with the mean\n",
    "mean_filled_df = df.fillna(df.mean())\n",
    "print(\"\\nData after filling missing values with the mean:\")\n",
    "print(mean_filled_df)\n"
   ]
  },
  {
   "cell_type": "markdown",
   "metadata": {},
   "source": [
    "# Encoding Categorial Data"
   ]
  },
  {
   "cell_type": "code",
   "execution_count": 49,
   "metadata": {},
   "outputs": [
    {
     "name": "stdout",
     "output_type": "stream",
     "text": [
      "Original Data:\n",
      "   Color\n",
      "0    Red\n",
      "1   Blue\n",
      "2  Green\n",
      "3   Blue\n",
      "4    Red\n",
      "\n",
      "Data after Label Encoding:\n",
      "   Color  Color_Label\n",
      "0    Red            2\n",
      "1   Blue            0\n",
      "2  Green            1\n",
      "3   Blue            0\n",
      "4    Red            2\n",
      "\n",
      "Data after One-Hot Encoding:\n",
      "   Color  Color_Label  Color_Blue  Color_Green  Color_Red\n",
      "0    Red            2       False        False       True\n",
      "1   Blue            0        True        False      False\n",
      "2  Green            1       False         True      False\n",
      "3   Blue            0        True        False      False\n",
      "4    Red            2       False        False       True\n"
     ]
    }
   ],
   "source": [
    "import pandas as pd\n",
    "\n",
    "# Creating a small dataset with categorical data\n",
    "data = {'Color': ['Red', 'Blue', 'Green', 'Blue', 'Red']}\n",
    "df = pd.DataFrame(data)\n",
    "\n",
    "print(\"Original Data:\")\n",
    "print(df)\n",
    "\n",
    "# Label Encoding\n",
    "df['Color_Label'] = df['Color'].astype('category').cat.codes\n",
    "print(\"\\nData after Label Encoding:\")\n",
    "print(df)\n",
    "\n",
    "# One-Hot Encoding\n",
    "one_hot_encoded = pd.get_dummies(df['Color'], prefix='Color')\n",
    "df = pd.concat([df, one_hot_encoded], axis=1)\n",
    "print(\"\\nData after One-Hot Encoding:\")\n",
    "print(df)\n"
   ]
  },
  {
   "cell_type": "code",
   "execution_count": 1,
   "metadata": {},
   "outputs": [
    {
     "name": "stdout",
     "output_type": "stream",
     "text": [
      "Original Data:\n",
      "   Height  Weight\n",
      "0     150      50\n",
      "1     160      60\n",
      "2     170      70\n",
      "3     180      80\n",
      "4     190      90\n",
      "\n",
      "After Min-Max Scaling:\n",
      "   Height_scaled  Weight_scaled\n",
      "0           0.00           0.00\n",
      "1           0.25           0.25\n",
      "2           0.50           0.50\n",
      "3           0.75           0.75\n",
      "4           1.00           1.00\n",
      "\n",
      "After Standard Scaling:\n",
      "   Height_scaled  Weight_scaled\n",
      "0      -1.414214      -1.414214\n",
      "1      -0.707107      -0.707107\n",
      "2       0.000000       0.000000\n",
      "3       0.707107       0.707107\n",
      "4       1.414214       1.414214\n"
     ]
    }
   ],
   "source": [
    "import pandas as pd\n",
    "from sklearn.preprocessing import MinMaxScaler, StandardScaler\n",
    "\n",
    "# Sample dataset\n",
    "data = {'Height': [150, 160, 170, 180, 190], 'Weight': [50, 60, 70, 80, 90]}\n",
    "df = pd.DataFrame(data)\n",
    "\n",
    "print(\"Original Data:\")\n",
    "print(df)\n",
    "\n",
    "# Min-Max Scaling\n",
    "minmax = MinMaxScaler()\n",
    "df_minmax = pd.DataFrame(minmax.fit_transform(df), columns=['Height_scaled', 'Weight_scaled'])\n",
    "\n",
    "print(\"\\nAfter Min-Max Scaling:\")\n",
    "print(df_minmax)\n",
    "\n",
    "# Standard Scaling\n",
    "standard = StandardScaler()\n",
    "df_standard = pd.DataFrame(standard.fit_transform(df), columns=['Height_scaled', 'Weight_scaled'])\n",
    "\n",
    "print(\"\\nAfter Standard Scaling:\")\n",
    "print(df_standard)\n"
   ]
  },
  {
   "cell_type": "code",
   "execution_count": 3,
   "metadata": {},
   "outputs": [
    {
     "name": "stdout",
     "output_type": "stream",
     "text": [
      "Cross-validation scores for each fold:\n",
      "[0.87800454 0.72023799 0.72023799        nan        nan]\n",
      "\n",
      "Average Score (Final Accuracy):\n",
      "nan\n"
     ]
    },
    {
     "name": "stderr",
     "output_type": "stream",
     "text": [
      "f:\\Python\\venv3.12\\Lib\\site-packages\\sklearn\\metrics\\_regression.py:1266: UndefinedMetricWarning: R^2 score is not well-defined with less than two samples.\n",
      "  warnings.warn(msg, UndefinedMetricWarning)\n",
      "f:\\Python\\venv3.12\\Lib\\site-packages\\sklearn\\metrics\\_regression.py:1266: UndefinedMetricWarning: R^2 score is not well-defined with less than two samples.\n",
      "  warnings.warn(msg, UndefinedMetricWarning)\n"
     ]
    }
   ],
   "source": [
    "import pandas as pd\n",
    "from sklearn.linear_model import LinearRegression\n",
    "from sklearn.model_selection import cross_val_score\n",
    "\n",
    "# Sample data\n",
    "data = {'Hours_Studied': [1, 2, 3, 4, 5, 6, 7, 8],\n",
    "        'Test_Score':    [35, 45, 50, 55, 65, 70, 75, 85]}\n",
    "df = pd.DataFrame(data)\n",
    "\n",
    "X = df[['Hours_Studied']]\n",
    "y = df['Test_Score']\n",
    "\n",
    "# Create a model\n",
    "model = LinearRegression()\n",
    "\n",
    "# Perform 5-fold cross-validation\n",
    "scores = cross_val_score(model, X, y, cv=5)\n",
    "\n",
    "print(\"Cross-validation scores for each fold:\")\n",
    "print(scores)\n",
    "\n",
    "print(\"\\nAverage Score (Final Accuracy):\")\n",
    "print(scores.mean())\n"
   ]
  },
  {
   "cell_type": "markdown",
   "metadata": {},
   "source": [
    "# Data preprocessing:"
   ]
  },
  {
   "cell_type": "code",
   "execution_count": 42,
   "metadata": {},
   "outputs": [],
   "source": [
    "import pandas as pd\n",
    "\n",
    "df = pd.read_csv(r\"F:\\Python\\Machine_Learning\\Mobiles Dataset (2025).csv\", encoding=\"ISO-8859-1\")\n",
    "df.dropna(inplace=True)  \n"
   ]
  },
  {
   "cell_type": "code",
   "execution_count": 43,
   "metadata": {},
   "outputs": [
    {
     "name": "stdout",
     "output_type": "stream",
     "text": [
      "Company Name                 0\n",
      "Model Name                   0\n",
      "Mobile Weight                0\n",
      "RAM                          0\n",
      "Front Camera                 0\n",
      "Back Camera                  0\n",
      "Processor                    0\n",
      "Battery Capacity             0\n",
      "Screen Size                  0\n",
      "Launched Price (Pakistan)    0\n",
      "Launched Price (India)       0\n",
      "Launched Price (China)       0\n",
      "Launched Price (USA)         0\n",
      "Launched Price (Dubai)       0\n",
      "Launched Year                0\n",
      "dtype: int64\n"
     ]
    }
   ],
   "source": [
    "# check for the missing Values\n",
    "print(df.isnull().sum())  \n"
   ]
  },
  {
   "cell_type": "code",
   "execution_count": 44,
   "metadata": {},
   "outputs": [
    {
     "name": "stdout",
     "output_type": "stream",
     "text": [
      "   Company Name            Model Name Mobile Weight  RAM Front Camera  \\\n",
      "0             0       iPhone 16 128GB          174g  6GB         12MP   \n",
      "1             0       iPhone 16 256GB          174g  6GB         12MP   \n",
      "2             0       iPhone 16 512GB          174g  6GB         12MP   \n",
      "3             0  iPhone 16 Plus 128GB          203g  6GB         12MP   \n",
      "4             0  iPhone 16 Plus 256GB          203g  6GB         12MP   \n",
      "\n",
      "  Back Camera   Processor Battery Capacity Screen Size  \\\n",
      "0        48MP  A17 Bionic         3,600mAh  6.1 inches   \n",
      "1        48MP  A17 Bionic         3,600mAh  6.1 inches   \n",
      "2        48MP  A17 Bionic         3,600mAh  6.1 inches   \n",
      "3        48MP  A17 Bionic         4,200mAh  6.7 inches   \n",
      "4        48MP  A17 Bionic         4,200mAh  6.7 inches   \n",
      "\n",
      "  Launched Price (Pakistan) Launched Price (India) Launched Price (China)  \\\n",
      "0               PKR 224,999             INR 79,999              CNY 5,799   \n",
      "1               PKR 234,999             INR 84,999              CNY 6,099   \n",
      "2               PKR 244,999             INR 89,999              CNY 6,499   \n",
      "3               PKR 249,999             INR 89,999              CNY 6,199   \n",
      "4               PKR 259,999             INR 94,999              CNY 6,499   \n",
      "\n",
      "  Launched Price (USA) Launched Price (Dubai)  Launched Year  \n",
      "0              USD 799              AED 2,799           2024  \n",
      "1              USD 849              AED 2,999           2024  \n",
      "2              USD 899              AED 3,199           2024  \n",
      "3              USD 899              AED 3,199           2024  \n",
      "4              USD 949              AED 3,399           2024  \n"
     ]
    }
   ],
   "source": [
    "from sklearn.preprocessing import LabelEncoder\n",
    "\n",
    "# Initialize the LabelEncoder\n",
    "label_encoder = LabelEncoder()\n",
    "\n",
    "# Apply label encoding on the 'Company Name' column\n",
    "df[\"Company Name\"] = label_encoder.fit_transform(df[\"Company Name\"])\n",
    "\n",
    "print(df.head())  # Display the transformed data\n"
   ]
  },
  {
   "cell_type": "code",
   "execution_count": 45,
   "metadata": {},
   "outputs": [
    {
     "name": "stdout",
     "output_type": "stream",
     "text": [
      "   Company Name Mobile Weight  RAM Front Camera Back Camera   Processor  \\\n",
      "0             0          174g  6GB         12MP        48MP  A17 Bionic   \n",
      "1             0          174g  6GB         12MP        48MP  A17 Bionic   \n",
      "2             0          174g  6GB         12MP        48MP  A17 Bionic   \n",
      "3             0          203g  6GB         12MP        48MP  A17 Bionic   \n",
      "4             0          203g  6GB         12MP        48MP  A17 Bionic   \n",
      "\n",
      "  Battery Capacity Screen Size Launched Price (Pakistan)  \\\n",
      "0         3,600mAh  6.1 inches               PKR 224,999   \n",
      "1         3,600mAh  6.1 inches               PKR 234,999   \n",
      "2         3,600mAh  6.1 inches               PKR 244,999   \n",
      "3         4,200mAh  6.7 inches               PKR 249,999   \n",
      "4         4,200mAh  6.7 inches               PKR 259,999   \n",
      "\n",
      "  Launched Price (India)  ... Model Name_iPhone XR 128GB  \\\n",
      "0             INR 79,999  ...                      False   \n",
      "1             INR 84,999  ...                      False   \n",
      "2             INR 89,999  ...                      False   \n",
      "3             INR 89,999  ...                      False   \n",
      "4             INR 94,999  ...                      False   \n",
      "\n",
      "  Model Name_iPhone XR 256GB Model Name_iPhone XR 64GB  \\\n",
      "0                      False                     False   \n",
      "1                      False                     False   \n",
      "2                      False                     False   \n",
      "3                      False                     False   \n",
      "4                      False                     False   \n",
      "\n",
      "   Model Name_iPhone XS 256GB  Model Name_iPhone XS 512GB  \\\n",
      "0                       False                       False   \n",
      "1                       False                       False   \n",
      "2                       False                       False   \n",
      "3                       False                       False   \n",
      "4                       False                       False   \n",
      "\n",
      "   Model Name_iPhone XS 64GB  Model Name_iPhone XS Max 256GB  \\\n",
      "0                      False                           False   \n",
      "1                      False                           False   \n",
      "2                      False                           False   \n",
      "3                      False                           False   \n",
      "4                      False                           False   \n",
      "\n",
      "   Model Name_iPhone XS Max 512GB  Model Name_iPhone XS Max 64GB  \\\n",
      "0                           False                          False   \n",
      "1                           False                          False   \n",
      "2                           False                          False   \n",
      "3                           False                          False   \n",
      "4                           False                          False   \n",
      "\n",
      "   Model Name_iQOO 12 256GB  \n",
      "0                     False  \n",
      "1                     False  \n",
      "2                     False  \n",
      "3                     False  \n",
      "4                     False  \n",
      "\n",
      "[5 rows x 921 columns]\n"
     ]
    }
   ],
   "source": [
    "# One-Hot Encoding the 'Model Name' column\n",
    "df = pd.get_dummies(df, columns=[\"Model Name\"], drop_first=True)\n",
    "\n",
    "print(df.head())  # Display the transformed data\n"
   ]
  },
  {
   "cell_type": "markdown",
   "metadata": {},
   "source": [
    "📝 Why Do We Split Data?\n",
    "\n",
    "Splitting data into training, validation, and test sets helps evaluate model performance and prevent overfitting.\n",
    "\n",
    "Training Set: Used to train the model.\n",
    "\n",
    "Validation Set: Used for hyperparameter tuning and model selection.\n",
    "\n",
    "Test Set: Used to evaluate the final model's performance."
   ]
  },
  {
   "cell_type": "code",
   "execution_count": 46,
   "metadata": {},
   "outputs": [
    {
     "name": "stdout",
     "output_type": "stream",
     "text": [
      "Training set size: (744, 920)\n",
      "Test set size: (186, 920)\n"
     ]
    }
   ],
   "source": [
    "from sklearn.model_selection import train_test_split\n",
    "\n",
    "# Features (X) and target (y) - assuming \"RAM\" as target for demonstration\n",
    "X = df.drop(\"RAM\", axis=1)  # Drop the target column from features\n",
    "y = df[\"RAM\"]               # Target variable\n",
    "\n",
    "# Train-test split (80-20 ratio)\n",
    "X_train, X_test, y_train, y_test = train_test_split(X, y, test_size=0.2, random_state=42)\n",
    "\n",
    "print(\"Training set size:\", X_train.shape)\n",
    "print(\"Test set size:\", X_test.shape)\n"
   ]
  },
  {
   "cell_type": "code",
   "execution_count": null,
   "metadata": {},
   "outputs": [],
   "source": []
  }
 ],
 "metadata": {
  "kernelspec": {
   "display_name": "venv3.12",
   "language": "python",
   "name": "python3"
  },
  "language_info": {
   "codemirror_mode": {
    "name": "ipython",
    "version": 3
   },
   "file_extension": ".py",
   "mimetype": "text/x-python",
   "name": "python",
   "nbconvert_exporter": "python",
   "pygments_lexer": "ipython3",
   "version": "3.12.0"
  }
 },
 "nbformat": 4,
 "nbformat_minor": 2
}
