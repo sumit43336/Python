{
 "cells": [
  {
   "cell_type": "code",
   "execution_count": 2,
   "metadata": {},
   "outputs": [
    {
     "name": "stdout",
     "output_type": "stream",
     "text": [
      "Linear(in_features=784, out_features=10, bias=True)\n",
      "After MaxPool: torch.Size([1, 4, 14, 14])\n",
      "before torch.Size([1, 784])\n",
      "after tensor([[-0.5330,  0.1944, -0.0012, -0.3370,  0.4287, -0.5748, -0.3092,  0.2726,\n",
      "         -0.3534,  0.4587]], grad_fn=<AddmmBackward0>)\n",
      "Final output shape: torch.Size([1, 10])\n"
     ]
    }
   ],
   "source": [
    "import torch\n",
    "import torch.nn as nn\n",
    "\n",
    "# Dummy input: 1 grayscale image of size 28x28\n",
    "image = torch.randn(1, 1, 28, 28)  # (batch_size, channels, height, width)\n",
    "\n",
    "class SimpleCNN(nn.Module):\n",
    "    def __init__(self):\n",
    "        super().__init__()\n",
    "        self.conv1 = nn.Conv2d(1, 4, kernel_size=3, padding=1)\n",
    "        # print(self.conv1)\n",
    "        self.pool = nn.MaxPool2d(2, 2)\n",
    "        # print(self.pool)\n",
    "        self.fc = nn.Linear(4 * 14 * 14, 10)\n",
    "        print(self.fc)\n",
    "\n",
    "    def forward(self, x):\n",
    "        # print(\"Input shape:\", x.shape)  # (1, 1, 28, 28)\n",
    "        x = self.conv1(x)\n",
    "        # print(\"After conv1 (before ReLU):\", x.shape)\n",
    "        # print(\"conv1 raw output:\", x[0, 0, :5, :5])  # show top-left 5x5 of first channel\n",
    "\n",
    "        x = torch.relu(x)\n",
    "        # print(\"After ReLU:\", x[0, 0, :5, :5])  # show ReLU output for first channel\n",
    "\n",
    "        x = self.pool(x)\n",
    "        print(\"After MaxPool:\", x.shape)  # (1, 4, 14, 14)\n",
    "\n",
    "        #x = x.view(-1, 4 * 14 * 14)\n",
    "        x = torch.flatten(x, 1)  # same as x.view(-1, 4*14*14)\n",
    "        print('before',x.shape)\n",
    "        x = self.fc(x)\n",
    "        print('after',x)\n",
    "        print(\"Final output shape:\", x.shape)  # (1, 10)\n",
    "        return x\n",
    "\n",
    "model = SimpleCNN()\n",
    "output = model(image)\n",
    "# print(model)"
   ]
  },
  {
   "cell_type": "markdown",
   "metadata": {},
   "source": [
    "| Step             | Shape            | What happens                  |\n",
    "| ---------------- | ---------------- | ----------------------------- |\n",
    "| Input            | `[1, 1, 28, 28]` | 1 image, 1 channel            |\n",
    "| After conv1      | `[1, 4, 28, 28]` | 4 feature maps from 4 filters |\n",
    "| After ReLU       | `[1, 4, 28, 28]` | Same shape, negatives → 0     |\n",
    "| After MaxPool    | `[1, 4, 14, 14]` | Each 2x2 block shrinks to 1   |\n",
    "| After flattening | `[1, 784]`       | Flattened to pass into `fc`   |\n",
    "| Final output     | `[1, 10]`        | 10 class scores               |\n"
   ]
  },
  {
   "cell_type": "code",
   "execution_count": 3,
   "metadata": {},
   "outputs": [],
   "source": [
    "# l=loss(y,output)\n",
    "# l.backward()\n",
    "# g.grad()   w=w-lr*dl/dw"
   ]
  },
  {
   "cell_type": "markdown",
   "metadata": {},
   "source": [
    "On an image"
   ]
  },
  {
   "cell_type": "code",
   "execution_count": 4,
   "metadata": {},
   "outputs": [],
   "source": [
    "from PIL import Image\n",
    "import torchvision.transforms as transforms\n",
    "import torch\n",
    "\n",
    "# Load your image (replace 'your_image.png' with your actual filename)\n",
    "img = Image.open(r\"C:\\Users\\chaud\\Downloads\\train.png\").convert('L')  # 'L' converts to grayscale\n",
    "\n",
    "# Transform to tensor and resize to 28x28\n",
    "transform = transforms.Compose([\n",
    "    transforms.Resize((28, 28)),       # Resize to 28x28\n",
    "    transforms.ToTensor(),             # Convert to tensor, scales to [0, 1]\n",
    "])\n",
    "\n",
    "image_tensor = transform(img)  # shape: [1, 28, 28]       Image becomes a 3D tensor: [channels=1, height=28, width=28]\n",
    "\n",
    "# Add batch dimension: [1, 1, 28, 28]\n",
    "image_tensor = image_tensor.unsqueeze(0)     #New shape: [batch_size=1, channels=1, height=28, width=28] → [1, 1, 28, 28]\n",
    "\n",
    "\n"
   ]
  },
  {
   "cell_type": "code",
   "execution_count": 5,
   "metadata": {},
   "outputs": [
    {
     "name": "stdout",
     "output_type": "stream",
     "text": [
      "After MaxPool: torch.Size([1, 4, 14, 14])\n",
      "before torch.Size([1, 784])\n",
      "after tensor([[-0.6981, -0.0603, -0.1277, -0.1701,  0.1931, -0.5323, -0.8462,  0.5240,\n",
      "         -0.2221,  0.3658]], grad_fn=<AddmmBackward0>)\n",
      "Final output shape: torch.Size([1, 10])\n"
     ]
    }
   ],
   "source": [
    "import torch\n",
    "import torch.nn as nn\n",
    "\n",
    "# Dummy input: 1 grayscale image of size 28x28\n",
    "image = image_tensor  # (batch_size, channels, height, width)\n",
    "\n",
    "class SimpleCNN(nn.Module):\n",
    "    def __init__(self):\n",
    "        super().__init__()\n",
    "        self.conv1 = nn.Conv2d(1, 4, kernel_size=3, padding=1)\n",
    "        self.pool = nn.MaxPool2d(2, 2)\n",
    "        self.fc = nn.Linear(4 * 14 * 14, 10)\n",
    "        \n",
    "\n",
    "    def forward(self, x):\n",
    "        # print(\"Input shape:\", x.shape)  # (1, 1, 28, 28)\n",
    "        x = self.conv1(x)\n",
    "        # print(\"After conv1 (before ReLU):\", x.shape)\n",
    "        # print(\"conv1 raw output:\", x[0, 0, :5, :5])  # show top-left 5x5 of first channel\n",
    "\n",
    "        x = torch.relu(x)\n",
    "        # print(\"After ReLU:\", x[0, 0, :5, :5])  # show ReLU output for first channel\n",
    "\n",
    "        x = self.pool(x)\n",
    "        print(\"After MaxPool:\", x.shape)  # (1, 4, 14, 14)\n",
    "\n",
    "        #x = x.view(-1, 4 * 14 * 14)\n",
    "        x = torch.flatten(x, 1)  # same as x.view(-1, 4*14*14)\n",
    "        print('before',x.shape)\n",
    "        x = self.fc(x)\n",
    "        print('after',x)\n",
    "        print(\"Final output shape:\", x.shape)  # (1, 10)\n",
    "        return x\n",
    "\n",
    "# model = SimpleCNN()\n",
    "output = model(image)\n",
    "# print(model)"
   ]
  },
  {
   "cell_type": "markdown",
   "metadata": {},
   "source": [
    "# Train the CNN on MNIST"
   ]
  },
  {
   "cell_type": "code",
   "execution_count": 1,
   "metadata": {},
   "outputs": [
    {
     "name": "stdout",
     "output_type": "stream",
     "text": [
      "Dataset = Dataset ImageFolder\n",
      "    Number of datapoints: 600\n",
      "    Root location: F:\\Python\\NN\\2.1\\Cnn\\datamnist60\n",
      "    StandardTransform\n",
      "Transform: Compose(\n",
      "               Grayscale(num_output_channels=1)\n",
      "               Resize(size=(28, 28), interpolation=bilinear, max_size=None, antialias=True)\n",
      "               ToTensor()\n",
      "           )\n",
      "Net(\n",
      "  (conv1): Conv2d(1, 10, kernel_size=(5, 5), stride=(1, 1))\n",
      "  (conv2): Conv2d(10, 10, kernel_size=(5, 5), stride=(1, 1))\n",
      "  (pool): MaxPool2d(kernel_size=2, stride=2, padding=0, dilation=1, ceil_mode=False)\n",
      "  (fc1): Linear(in_features=160, out_features=100, bias=True)\n",
      "  (fc2): Linear(in_features=100, out_features=10, bias=True)\n",
      ")\n"
     ]
    }
   ],
   "source": [
    "# data loader\n",
    "import torch\n",
    "from torchvision import datasets, transforms\n",
    "from torch.utils.data import DataLoader\n",
    "\n",
    "# Path to your dataset folder\n",
    "data_path = r\"F:\\Python\\NN\\2.1\\Cnn\\datamnist60\"\n",
    "\n",
    "# Define transforms\n",
    "transform = transforms.Compose([\n",
    "    transforms.Grayscale(),             # Ensure grayscale\n",
    "    transforms.Resize((28, 28)),        # Resize to 28x28\n",
    "    transforms.ToTensor(),              # Convert to tensor and normalize to [0,1]\n",
    "])\n",
    "\n",
    "# Create dataset\n",
    "dataset = datasets.ImageFolder(root=data_path, transform=transform)\n",
    "print(\"Dataset =\",dataset)\n",
    "# Create DataLoader\n",
    "data_loader = DataLoader(dataset, batch_size=32, shuffle=True)\n",
    "\n",
    "\n",
    "\n",
    "\n",
    "# Making the model\n",
    "import torch.nn as nn\n",
    "class Net(nn.Module):\n",
    "  def __init__(self):\n",
    "    super(Net,self).__init__()\n",
    "    self.conv1 = nn.Conv2d(1,10,kernel_size=5,stride=1)\n",
    "    self.conv2 = nn.Conv2d(10,10,kernel_size=5,stride=1)\n",
    "    self.pool = nn.MaxPool2d(kernel_size=2,stride=2) #2x2 maxpool\n",
    "    self.fc1 = nn.Linear(4*4*10,100)\n",
    "    self.fc2 = nn.Linear(100,10)\n",
    "  \n",
    "  def forward(self,x):\n",
    "\n",
    "    x = F.relu(self.conv1(x)) #24x24x10\n",
    "\n",
    "    x = self.pool(x) #12x12x10\n",
    "    \n",
    "    x = F.relu(self.conv2(x)) #8x8x10\n",
    "    \n",
    "    x = self.pool(x) #4x4x10    \n",
    "    \n",
    "    x = x.view(-1, 4*4*10) #flattening\n",
    "    \n",
    "    x = F.relu(self.fc1(x))\n",
    "    \n",
    "    x = self.fc2(x)\n",
    "    \n",
    "    return x\n",
    "\n",
    "model = Net()\n",
    "print(model)"
   ]
  },
  {
   "cell_type": "code",
   "execution_count": 2,
   "metadata": {},
   "outputs": [
    {
     "name": "stdout",
     "output_type": "stream",
     "text": [
      "Epoch [1/10], Step [10/19], Loss: 2.2823\n",
      "Epoch [1/10], Average Loss: 2.2855\n",
      "Epoch [2/10], Step [10/19], Loss: 2.0606\n",
      "Epoch [2/10], Average Loss: 2.0883\n",
      "Epoch [3/10], Step [10/19], Loss: 1.3742\n",
      "Epoch [3/10], Average Loss: 1.3506\n",
      "Epoch [4/10], Step [10/19], Loss: 1.1893\n",
      "Epoch [4/10], Average Loss: 0.7547\n",
      "Epoch [5/10], Step [10/19], Loss: 0.6540\n",
      "Epoch [5/10], Average Loss: 0.5839\n",
      "Epoch [6/10], Step [10/19], Loss: 0.8062\n",
      "Epoch [6/10], Average Loss: 0.5204\n",
      "Epoch [7/10], Step [10/19], Loss: 0.4140\n",
      "Epoch [7/10], Average Loss: 0.4165\n",
      "Epoch [8/10], Step [10/19], Loss: 0.3885\n",
      "Epoch [8/10], Average Loss: 0.3880\n",
      "Epoch [9/10], Step [10/19], Loss: 0.3151\n",
      "Epoch [9/10], Average Loss: 0.3160\n",
      "Epoch [10/10], Step [10/19], Loss: 0.2303\n",
      "Epoch [10/10], Average Loss: 0.2937\n",
      "✅ Training complete.\n"
     ]
    }
   ],
   "source": [
    "import torch\n",
    "import torch.nn as nn\n",
    "import torch.nn.functional as F\n",
    "import torch.optim as optim\n",
    "\n",
    "# Check for GPU\n",
    "device = torch.device(\"cuda\" if torch.cuda.is_available() else \"cpu\")\n",
    "\n",
    "# Move model to device\n",
    "model = Net().to(device)\n",
    "\n",
    "# Loss function and optimizer\n",
    "criterion = nn.CrossEntropyLoss()  # Good for multi-class classification\n",
    "optimizer = optim.Adam(model.parameters(), lr=0.001)\n",
    "\n",
    "# Training loop\n",
    "epochs = 10  # You can increase this\n",
    "for epoch in range(epochs):\n",
    "    model.train()  # Set model to training mode\n",
    "    running_loss = 0.0\n",
    "\n",
    "    for batch_idx, (images, labels) in enumerate(data_loader):\n",
    "        images, labels = images.to(device), labels.to(device)\n",
    "\n",
    "        optimizer.zero_grad()             # Zero the gradients\n",
    "        outputs = model(images)           # Forward pass\n",
    "        loss = criterion(outputs, labels) # Compute loss\n",
    "        loss.backward()                   # Backpropagation\n",
    "        optimizer.step()                  # Update weights\n",
    "\n",
    "        running_loss += loss.item()\n",
    "\n",
    "        if (batch_idx + 1) % 10 == 0:\n",
    "            print(f\"Epoch [{epoch+1}/{epochs}], Step [{batch_idx+1}/{len(data_loader)}], Loss: {loss.item():.4f}\")\n",
    "\n",
    "    print(f\"Epoch [{epoch+1}/{epochs}], Average Loss: {running_loss / len(data_loader):.4f}\")\n",
    "\n",
    "print(\"✅ Training complete.\")\n"
   ]
  },
  {
   "cell_type": "code",
   "execution_count": 3,
   "metadata": {},
   "outputs": [
    {
     "name": "stdout",
     "output_type": "stream",
     "text": [
      "✅ Model weights saved to cnn_model.pth\n"
     ]
    }
   ],
   "source": [
    "torch.save(model.state_dict(), R\"F:\\Python\\NN\\2.1\\Cnn\\cnn_model.pth\")\n",
    "print(\"✅ Model weights saved to cnn_model.pth\")\n"
   ]
  },
  {
   "cell_type": "code",
   "execution_count": 4,
   "metadata": {},
   "outputs": [
    {
     "name": "stdout",
     "output_type": "stream",
     "text": [
      "Predicted labels: [3, 4, 6, 7, 9, 8, 2, 9, 6, 4, 6, 5, 7, 8, 2, 7, 5, 7, 9, 7, 5, 0, 7, 6, 1, 7, 7, 4, 8, 6, 2, 3]\n",
      "Actual labels   : [3, 4, 6, 9, 9, 8, 2, 9, 6, 4, 6, 5, 7, 8, 2, 7, 5, 7, 9, 7, 5, 0, 7, 6, 1, 7, 3, 7, 8, 6, 2, 3]\n"
     ]
    }
   ],
   "source": [
    "import torch.nn.functional as F\n",
    "\n",
    "# Put model in evaluation mode\n",
    "model.eval()\n",
    "\n",
    "# Disable gradient calculation\n",
    "with torch.no_grad():\n",
    "    for images, labels in data_loader:\n",
    "        outputs = model(images)  # Forward pass\n",
    "        _, predicted = torch.max(outputs, 1)  # Get predicted class\n",
    "\n",
    "        print(\"Predicted labels:\", predicted.tolist())\n",
    "        print(\"Actual labels   :\", labels.tolist())\n",
    "        break  # Only check one batch\n"
   ]
  },
  {
   "cell_type": "code",
   "execution_count": 5,
   "metadata": {},
   "outputs": [
    {
     "data": {
      "image/png": "[encoded data removed]",
      "text/plain": [
       "<Figure size 1000x600 with 6 Axes>"
      ]
     },
     "metadata": {},
     "output_type": "display_data"
    }
   ],
   "source": [
    "import matplotlib.pyplot as plt\n",
    "\n",
    "# Just 6 samples from the batch\n",
    "fig, axs = plt.subplots(2, 3, figsize=(10, 6))\n",
    "images = images[:6]\n",
    "labels = labels[:6]\n",
    "predicted = predicted[:6]\n",
    "\n",
    "for i in range(6):\n",
    "    ax = axs[i // 3, i % 3]\n",
    "    ax.imshow(images[i].squeeze(), cmap='gray')\n",
    "    ax.set_title(f\"True: {labels[i]}, Pred: {predicted[i]}\")\n",
    "    ax.axis('off')\n",
    "\n",
    "plt.tight_layout()\n",
    "plt.show()\n"
   ]
  },
  {
   "cell_type": "code",
   "execution_count": 6,
   "metadata": {},
   "outputs": [
    {
     "name": "stdout",
     "output_type": "stream",
     "text": [
      "Test Accuracy: 0.8983\n"
     ]
    }
   ],
   "source": [
    "# Switch model to evaluation mode (important for layers like dropout)\n",
    "model.eval()\n",
    "\n",
    "# List to store predictions and true labels\n",
    "all_preds = []\n",
    "all_labels = []\n",
    "\n",
    "with torch.no_grad():  # Turn off gradients to save memory during inference\n",
    "    for images, labels in data_loader:\n",
    "        outputs = model(images)  # Get model's predictions\n",
    "        _, preds = torch.max(outputs, 1)  # Convert logits to class predictions\n",
    "        all_preds.append(preds)\n",
    "        all_labels.append(labels)\n",
    "\n",
    "# Convert lists to tensors for comparison\n",
    "all_preds = torch.cat(all_preds)\n",
    "all_labels = torch.cat(all_labels)\n",
    "\n",
    "# Calculate accuracy\n",
    "accuracy = (all_preds == all_labels).float().mean()\n",
    "print(f\"Test Accuracy: {accuracy:.4f}\")\n"
   ]
  },
  {
   "cell_type": "markdown",
   "metadata": {},
   "source": [
    "# How the forward pass works"
   ]
  },
  {
   "cell_type": "code",
   "execution_count": 8,
   "metadata": {},
   "outputs": [],
   "source": [
    "import torch\n",
    "import torch.nn as nn\n",
    "\n",
    "# Input and target\n",
    "x = torch.tensor(5.5)\n",
    "y = torch.tensor(0.0)\n",
    "\n",
    "# Parameters with gradients\n",
    "w = torch.tensor(1.0, requires_grad=True)\n",
    "b = torch.tensor(0.0, requires_grad=True)\n",
    "\n",
    "# Linear transformation\n",
    "z = x * w + b\n",
    "# y_pred = x * w + b\n"
   ]
  },
  {
   "cell_type": "code",
   "execution_count": 9,
   "metadata": {},
   "outputs": [
    {
     "data": {
      "text/plain": [
       "tensor(0.9959, grad_fn=<SigmoidBackward0>)"
      ]
     },
     "execution_count": 9,
     "metadata": {},
     "output_type": "execute_result"
    }
   ],
   "source": [
    "y_pred=torch.sigmoid(z)\n",
    "y_pred"
   ]
  },
  {
   "cell_type": "code",
   "execution_count": 10,
   "metadata": {},
   "outputs": [],
   "source": [
    "def binary_cross_entropy_loss(y_true, y_pred):\n",
    "    # Ensure predicted values are in the range [0, 1]\n",
    "    epsilon=1e-7\n",
    "    y_pred = torch.clamp(y_pred, epsilon, 1 - epsilon)  # Avoid log(0) issues\n",
    "    loss = -(y_true * torch.log(y_pred) + (1 - y_true) * torch.log(1 - y_pred))\n",
    "    return loss"
   ]
  },
  {
   "cell_type": "code",
   "execution_count": 11,
   "metadata": {},
   "outputs": [
    {
     "data": {
      "text/plain": [
       "tensor(5.5041, grad_fn=<NegBackward0>)"
      ]
     },
     "execution_count": 11,
     "metadata": {},
     "output_type": "execute_result"
    }
   ],
   "source": [
    "loss=binary_cross_entropy_loss(y,y_pred)\n",
    "loss\n",
    "# tensor(5.5041, grad_fn=<NegBackward0>)\n"
   ]
  },
  {
   "cell_type": "code",
   "execution_count": 12,
   "metadata": {},
   "outputs": [],
   "source": [
    "loss.backward() \n"
   ]
  },
  {
   "cell_type": "code",
   "execution_count": 13,
   "metadata": {},
   "outputs": [
    {
     "data": {
      "text/plain": [
       "tensor(5.4776)"
      ]
     },
     "execution_count": 13,
     "metadata": {},
     "output_type": "execute_result"
    }
   ],
   "source": [
    "w.grad # dl/dw"
   ]
  },
  {
   "cell_type": "code",
   "execution_count": 14,
   "metadata": {},
   "outputs": [
    {
     "data": {
      "text/plain": [
       "tensor(0.9959)"
      ]
     },
     "execution_count": 14,
     "metadata": {},
     "output_type": "execute_result"
    }
   ],
   "source": [
    "b.grad"
   ]
  },
  {
   "cell_type": "code",
   "execution_count": 15,
   "metadata": {},
   "outputs": [
    {
     "data": {
      "text/plain": [
       "tensor(0.9452, grad_fn=<SubBackward0>)"
      ]
     },
     "execution_count": 15,
     "metadata": {},
     "output_type": "execute_result"
    }
   ],
   "source": [
    "lr=0.01\n",
    "w = w-(lr*w.grad) # GD\n",
    "w"
   ]
  },
  {
   "cell_type": "code",
   "execution_count": 16,
   "metadata": {},
   "outputs": [
    {
     "data": {
      "text/plain": [
       "tensor(-0.0100, grad_fn=<SubBackward0>)"
      ]
     },
     "execution_count": 16,
     "metadata": {},
     "output_type": "execute_result"
    }
   ],
   "source": [
    "b=b-(lr*b.grad)\n",
    "b"
   ]
  },
  {
   "cell_type": "code",
   "execution_count": 17,
   "metadata": {},
   "outputs": [],
   "source": [
    "# y_pred=w*x+b\n",
    "z=w*x+b"
   ]
  },
  {
   "cell_type": "code",
   "execution_count": 18,
   "metadata": {},
   "outputs": [
    {
     "data": {
      "text/plain": [
       "tensor(0.9945, grad_fn=<SigmoidBackward0>)"
      ]
     },
     "execution_count": 18,
     "metadata": {},
     "output_type": "execute_result"
    }
   ],
   "source": [
    "y_pred=torch.sigmoid(z)\n",
    "y_pred"
   ]
  },
  {
   "cell_type": "code",
   "execution_count": 19,
   "metadata": {},
   "outputs": [
    {
     "data": {
      "text/plain": [
       "tensor(5.1943, grad_fn=<NegBackward0>)"
      ]
     },
     "execution_count": 19,
     "metadata": {},
     "output_type": "execute_result"
    }
   ],
   "source": [
    "loss=binary_cross_entropy_loss(y,y_pred)\n",
    "loss\n",
    "# tensor(5.1943, grad_fn=<NegBackward0>)"
   ]
  },
  {
   "cell_type": "code",
   "execution_count": null,
   "metadata": {},
   "outputs": [],
   "source": []
  }
 ],
 "metadata": {
  "kernelspec": {
   "display_name": "venv3.12",
   "language": "python",
   "name": "python3"
  },
  "language_info": {
   "codemirror_mode": {
    "name": "ipython",
    "version": 3
   },
   "file_extension": ".py",
   "mimetype": "text/x-python",
   "name": "python",
   "nbconvert_exporter": "python",
   "pygments_lexer": "ipython3",
   "version": "3.12.0"
  }
 },
 "nbformat": 4,
 "nbformat_minor": 2
}
