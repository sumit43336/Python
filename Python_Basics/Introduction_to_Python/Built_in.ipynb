{
 "cells": [
  {
   "cell_type": "markdown",
   "metadata": {},
   "source": [
    "# List"
   ]
  },
  {
   "cell_type": "code",
   "execution_count": 15,
   "metadata": {},
   "outputs": [
    {
     "name": "stdout",
     "output_type": "stream",
     "text": [
      "1\n",
      "5\n",
      "[2, 3, 4]\n"
     ]
    }
   ],
   "source": [
    "# Empty list\n",
    "my_list = []\n",
    "\n",
    "# List with values\n",
    "numbers = [1, 2, 3, 4, 5]\n",
    "mixed = [10, \"Python\", 3.14, True]\n",
    "nested = [[1, 2], [3, 4]]\n",
    "\n",
    "print(numbers[0])  \n",
    "print(numbers[-1])  \n",
    "print(numbers[1:4])  "
   ]
  },
  {
   "cell_type": "code",
   "execution_count": 16,
   "metadata": {},
   "outputs": [
    {
     "name": "stdout",
     "output_type": "stream",
     "text": [
      "[1, 2, 3, 4, 5, 6]\n",
      "[1, 2, 99, 3, 4, 5, 6]\n",
      "[1, 2, 99, 4, 5, 6]\n",
      "[1, 2, 99, 4, 5]\n",
      "[100, 2, 99, 4, 5]\n"
     ]
    }
   ],
   "source": [
    "# modifying list\n",
    "numbers.append(6)  # Add at the end\n",
    "print(numbers)\n",
    "\n",
    "numbers.insert(2, 99)  # Insert at index 2\n",
    "print(numbers)\n",
    "\n",
    "numbers.remove(3)  # Remove element 3\n",
    "print(numbers)\n",
    "\n",
    "numbers.pop()  # Removes last element\n",
    "print(numbers)\n",
    "\n",
    "numbers[0] = 100  # Modifying element at index 0\n",
    "print(numbers)\n"
   ]
  },
  {
   "cell_type": "code",
   "execution_count": 11,
   "metadata": {},
   "outputs": [
    {
     "name": "stdout",
     "output_type": "stream",
     "text": [
      "combined [1, 2, 3, 4, 5, 6] repeated [1, 2, 3, 1, 2, 3] length  3\n"
     ]
    }
   ],
   "source": [
    "# List Operations\n",
    "list1 = [1, 2, 3]\n",
    "list2 = [4, 5, 6]\n",
    "\n",
    "combined = list1 + list2  # Concatenation\n",
    "repeated = list1 * 2  # Repetition\n",
    "length = len(list1)  # Length\n",
    "print(\"combined\",combined,\"repeated\",repeated,\"length \",length)\n"
   ]
  },
  {
   "cell_type": "code",
   "execution_count": 9,
   "metadata": {},
   "outputs": [
    {
     "name": "stdout",
     "output_type": "stream",
     "text": [
      "[0, 1, 4, 9, 16, 25, 36, 49, 64, 81]\n",
      "[0, 2, 4, 6, 8]\n"
     ]
    }
   ],
   "source": [
    "# List Comprehensions\n",
    "squares = [x**2 for x in range(10)]\n",
    "evens = [x for x in range(10) if x % 2 == 0]\n",
    "print(squares)\n",
    "print(evens)"
   ]
  },
  {
   "cell_type": "markdown",
   "metadata": {},
   "source": [
    "# Tuples"
   ]
  },
  {
   "cell_type": "code",
   "execution_count": 25,
   "metadata": {},
   "outputs": [],
   "source": [
    "my_tuple = (1, 2, 3)\n",
    "single_element = (5,) \n",
    "nested_tuple = ((1, 2), (3, 4))\n",
    "\n"
   ]
  },
  {
   "cell_type": "code",
   "execution_count": 26,
   "metadata": {},
   "outputs": [
    {
     "name": "stdout",
     "output_type": "stream",
     "text": [
      "1\n",
      "3\n"
     ]
    }
   ],
   "source": [
    "print(my_tuple[0])  # First element\n",
    "print(my_tuple[-1])  # Last element\n"
   ]
  },
  {
   "cell_type": "code",
   "execution_count": 27,
   "metadata": {},
   "outputs": [
    {
     "name": "stdout",
     "output_type": "stream",
     "text": [
      "(1, 2, 3, 4, 5, 6)\n",
      "(1, 2, 3, 1, 2, 3)\n",
      "3\n"
     ]
    }
   ],
   "source": [
    "new_tuple = my_tuple + (4, 5, 6)  # Concatenation\n",
    "print(new_tuple)\n",
    "\n",
    "rep_tuple = my_tuple * 2  # Repetition\n",
    "print(rep_tuple)\n",
    "\n",
    "length = len(my_tuple)  # Length\n",
    "print(length)"
   ]
  },
  {
   "cell_type": "markdown",
   "metadata": {},
   "source": [
    "# Dictionary"
   ]
  },
  {
   "cell_type": "code",
   "execution_count": 36,
   "metadata": {},
   "outputs": [
    {
     "name": "stdout",
     "output_type": "stream",
     "text": [
      "{'name': 'Alice', 'age': 25, 'city': 'New York'}\n",
      "{}\n"
     ]
    }
   ],
   "source": [
    "my_dict = {\n",
    "    \"name\": \"Alice\",\n",
    "    \"age\": 25,\n",
    "    \"city\": \"New York\"\n",
    "}\n",
    "print(my_dict)\n",
    "\n",
    "empty_dict = {}\n",
    "print(empty_dict)"
   ]
  },
  {
   "cell_type": "code",
   "execution_count": 37,
   "metadata": {},
   "outputs": [
    {
     "name": "stdout",
     "output_type": "stream",
     "text": [
      "Alice\n",
      "{'name': 'Alice', 'age': 26, 'city': 'New York'}\n",
      "{'name': 'Alice', 'age': 26, 'city': 'New York', 'job': 'Engineer'}\n",
      "{'name': 'Alice', 'age': 26, 'job': 'Engineer'}\n"
     ]
    }
   ],
   "source": [
    "print(my_dict[\"name\"])  # Access value\n",
    "\n",
    "my_dict[\"age\"] = 26  # Modify value\n",
    "print(my_dict)\n",
    "\n",
    "my_dict[\"job\"] = \"Engineer\"  # Add new key-value pair\\\n",
    "print(my_dict)\n",
    "\n",
    "del my_dict[\"city\"]  # Delete a key-value pair\n",
    "print(my_dict)\n"
   ]
  },
  {
   "cell_type": "code",
   "execution_count": 38,
   "metadata": {},
   "outputs": [
    {
     "name": "stdout",
     "output_type": "stream",
     "text": [
      "dict_keys(['name', 'age', 'job'])\n",
      "dict_values(['Alice', 26, 'Engineer'])\n",
      "dict_items([('name', 'Alice'), ('age', 26), ('job', 'Engineer')])\n"
     ]
    }
   ],
   "source": [
    "print(my_dict.keys())  # Get all keys\n",
    "print(my_dict.values())  # Get all values\n",
    "print(my_dict.items())  # Get all key-value pairs\n"
   ]
  },
  {
   "cell_type": "code",
   "execution_count": 39,
   "metadata": {},
   "outputs": [
    {
     "name": "stdout",
     "output_type": "stream",
     "text": [
      "{0: 0, 1: 1, 2: 4, 3: 9, 4: 16}\n"
     ]
    }
   ],
   "source": [
    "squares = {x: x**2 for x in range(5)}\n",
    "print(squares)"
   ]
  },
  {
   "cell_type": "markdown",
   "metadata": {},
   "source": [
    "# Sets"
   ]
  },
  {
   "cell_type": "code",
   "execution_count": 45,
   "metadata": {},
   "outputs": [
    {
     "name": "stdout",
     "output_type": "stream",
     "text": [
      "{1, 2, 3, 4, 5}\n",
      "{1, 2, 3, 4}\n"
     ]
    }
   ],
   "source": [
    "my_set = {1, 2, 3, 4, 5}\n",
    "print(my_set)\n",
    "another_set = set([1, 2, 2, 3, 4])  # Removes duplicates\n",
    "print(another_set)"
   ]
  },
  {
   "cell_type": "code",
   "execution_count": 46,
   "metadata": {},
   "outputs": [
    {
     "name": "stdout",
     "output_type": "stream",
     "text": [
      "{1, 2, 3, 4, 5, 6}\n",
      "{1, 2, 4, 5, 6}\n",
      "{1, 2, 4, 5, 6}\n"
     ]
    }
   ],
   "source": [
    "my_set.add(6)  # Add element\n",
    "print(my_set)\n",
    "\n",
    "my_set.remove(3)  # Remove element (error if not found)\n",
    "print(my_set)\n",
    "\n",
    "my_set.discard(10)  # Remove element (no error if not found)\n",
    "print(my_set)\n"
   ]
  },
  {
   "cell_type": "code",
   "execution_count": 47,
   "metadata": {},
   "outputs": [
    {
     "name": "stdout",
     "output_type": "stream",
     "text": [
      "{1, 2, 3, 4, 5, 6}\n",
      "{3, 4}\n",
      "{1, 2}\n"
     ]
    }
   ],
   "source": [
    "A = {1, 2, 3, 4}\n",
    "B = {3, 4, 5, 6}\n",
    "\n",
    "print(A | B)  # Union\n",
    "print(A & B)  # Intersection\n",
    "print(A - B)  # Difference\n"
   ]
  },
  {
   "cell_type": "markdown",
   "metadata": {},
   "source": [
    "# Practice"
   ]
  },
  {
   "cell_type": "markdown",
   "metadata": {},
   "source": [
    "Basic Questions\n",
    "\n",
    "Create a list with elements from 1 to 10 and remove all even numbers.\n",
    "\n",
    "Reverse a tuple (10, 20, 30, 40, 50).\n",
    "\n",
    "Write a function that counts the frequency of each word in a given sentence.\n",
    "\n",
    "Given a list of numbers, create a set of all unique numbers."
   ]
  },
  {
   "cell_type": "code",
   "execution_count": 30,
   "metadata": {},
   "outputs": [
    {
     "name": "stdout",
     "output_type": "stream",
     "text": [
      "[0, 2, 4, 6, 8]\n",
      "(10, 20, 30, 40, 50)\n",
      "'sumit' appears 2 times.\n",
      "{1, 2, 3, 4, 5, 6, 7, 8, 9}\n"
     ]
    }
   ],
   "source": [
    "# 1\n",
    "a = 10\n",
    "my_list = []\n",
    "for i in range (a):\n",
    "    if i % 2 == 0:\n",
    "        my_list.append(i)\n",
    "print(my_list)\n",
    "\n",
    "# 2 \n",
    "for_Tuple = (10, 20, 30, 40, 50)\n",
    "bac_Tuple = () \n",
    "for i in range(len(for_Tuple)):\n",
    "    bac_Tuple += (for_Tuple[i],)  \n",
    "\n",
    "print(bac_Tuple) \n",
    "\n",
    "# 3\n",
    "to_find = \"sumit is a bad boy, sumit\"\n",
    "a = \"sumit\"\n",
    "\n",
    "count = to_find.count(a)  \n",
    "print(f\"'{a}' appears {count} times.\")\n",
    "\n",
    "# 4\n",
    "a = [1,2,3,4,4,5,6,7,6,7,8,9,7,3,3,4,3,4,5,6,3,2,2]\n",
    "another_set = set(a)\n",
    "print(another_set)"
   ]
  },
  {
   "cell_type": "markdown",
   "metadata": {},
   "source": [
    "Intermediate Challenges\n",
    "\n",
    "Write a program that takes a dictionary of students and their marks, and finds the student with the highest marks.\n",
    "\n",
    "Given a tuple (10, 20, [30, 40]), try changing 30 to 300 (Hint: Lists inside tuples are mutable!).\n",
    "\n",
    "Merge two dictionaries without using the update() method."
   ]
  },
  {
   "cell_type": "code",
   "execution_count": 7,
   "metadata": {},
   "outputs": [
    {
     "name": "stdout",
     "output_type": "stream",
     "text": [
      "The top student is David with 95 marks.\n",
      "before (10, 20, [30, 40])\n",
      "after (10, 20, [300, 40])\n",
      "{'a': 1, 'b': 2, 'c': 3, 'd': 4}\n"
     ]
    }
   ],
   "source": [
    "# 5\n",
    "students_marks = {\n",
    "    \"Alice\": 85,\n",
    "    \"Bob\": 92,\n",
    "    \"Charlie\": 78,\n",
    "    \"David\": 95,\n",
    "    \"Eve\": 88\n",
    "}\n",
    "top_student = max(students_marks, key=students_marks.get)\n",
    "top_marks = students_marks[top_student]\n",
    "\n",
    "print(f\"The top student is {top_student} with {top_marks} marks.\")\n",
    "\n",
    "# 6\n",
    "a = (10, 20, [30, 40])\n",
    "print(\"before\",a)\n",
    "a[2][0] = 300\n",
    "print(\"after\",a)\n",
    "\n",
    "# 7\n",
    "dict1 = {\"a\": 1, \"b\": 2}\n",
    "dict2 = {\"c\": 3, \"d\": 4}\n",
    "\n",
    "merged_dict = dict1.copy()  \n",
    "for key, value in dict2.items():\n",
    "    merged_dict[key] = value\n",
    "\n",
    "print(merged_dict)\n",
    "\n"
   ]
  },
  {
   "cell_type": "markdown",
   "metadata": {},
   "source": [
    "Advanced & Tricky Challenges\n",
    "\n",
    "Write a one-liner dictionary comprehension that maps numbers from 1 to 10 to their cube values only if they are even.\n",
    "\n",
    "Find the intersection of two sets without using the & operator.\n"
   ]
  },
  {
   "cell_type": "code",
   "execution_count": 14,
   "metadata": {},
   "outputs": [
    {
     "name": "stdout",
     "output_type": "stream",
     "text": [
      "{2: 8, 4: 64, 6: 216, 8: 512, 10: 1000}\n",
      "Common elements: {1, 2, 4}\n"
     ]
    }
   ],
   "source": [
    "# 8\n",
    "cubes = {x: x**3 for x in range(1, 11) if x % 2 == 0}\n",
    "print(cubes)\n",
    "\n",
    "# 9\n",
    "a = {1, 2, 3, 4}\n",
    "b = {1, 2, 4, 5, 6, 7, 8, 9}\n",
    "\n",
    "common_elements = set()  \n",
    "\n",
    "for element in a:\n",
    "    if element in b:  \n",
    "        common_elements.add(element)\n",
    "\n",
    "print(f\"Common elements: {common_elements}\")\n",
    "\n",
    "# 10\n",
    "\n"
   ]
  },
  {
   "cell_type": "code",
   "execution_count": null,
   "metadata": {},
   "outputs": [],
   "source": []
  }
 ],
 "metadata": {
  "kernelspec": {
   "display_name": "venv3.12",
   "language": "python",
   "name": "python3"
  },
  "language_info": {
   "codemirror_mode": {
    "name": "ipython",
    "version": 3
   },
   "file_extension": ".py",
   "mimetype": "text/x-python",
   "name": "python",
   "nbconvert_exporter": "python",
   "pygments_lexer": "ipython3",
   "version": "3.12.0"
  }
 },
 "nbformat": 4,
 "nbformat_minor": 2
}
