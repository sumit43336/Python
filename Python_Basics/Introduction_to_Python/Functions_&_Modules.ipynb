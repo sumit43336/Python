{
 "cells": [
  {
   "cell_type": "markdown",
   "metadata": {},
   "source": [
    "# Functions in Python"
   ]
  },
  {
   "cell_type": "code",
   "execution_count": 3,
   "metadata": {},
   "outputs": [
    {
     "name": "stdout",
     "output_type": "stream",
     "text": [
      "Hello, Sumit!\n"
     ]
    }
   ],
   "source": [
    "# Defining and Calling Functions\n",
    "\n",
    "def greet(name): # The name is the Prameter\n",
    "    \"\"\"This function greets the user.\"\"\"\n",
    "    return f\"Hello, {name}!\"\n",
    "\n",
    "print(greet(\"Sumit\"))\n"
   ]
  },
  {
   "cell_type": "markdown",
   "metadata": {},
   "source": [
    "Question 1\n",
    "\n",
    "Create a function calculate_area(shape, a, b=None) that calculates the area of a:\n",
    "\n",
    "Rectangle (length * width)"
   ]
  },
  {
   "cell_type": "code",
   "execution_count": 4,
   "metadata": {},
   "outputs": [
    {
     "name": "stdout",
     "output_type": "stream",
     "text": [
      "160\n"
     ]
    }
   ],
   "source": [
    "# Question 1\n",
    "def calulate_area(length,width):\n",
    "    '''This function will calutalte the area of a rectangle'''\n",
    "    area = length * width\n",
    "    return area\n",
    "\n",
    "length = 10\n",
    "width = 16\n",
    "print(calulate_area(length,width))"
   ]
  },
  {
   "cell_type": "markdown",
   "metadata": {},
   "source": [
    "Question 2\n",
    "\n",
    "Create a function calculate_area(shape, a, b=None) that calculates the area of a:\n",
    "\n",
    "Circle (π * r²)\n",
    "\n",
    "Rectangle (length * width)\n",
    "\n",
    "Triangle (0.5 * base * height)\n",
    "\n",
    "If shape is \"circle\", b should be ignored."
   ]
  },
  {
   "cell_type": "code",
   "execution_count": 7,
   "metadata": {},
   "outputs": [
    {
     "name": "stdout",
     "output_type": "stream",
     "text": [
      "3.141592653589793\n"
     ]
    }
   ],
   "source": [
    "import math\n",
    "from math import pi\n",
    "print(pi)"
   ]
  },
  {
   "cell_type": "code",
   "execution_count": 10,
   "metadata": {},
   "outputs": [
    {
     "name": "stdout",
     "output_type": "stream",
     "text": [
      "314.1592653589793\n"
     ]
    }
   ],
   "source": [
    "def area_calulator(shape , a,b = None):\n",
    "    if shape == 1: #rectangle\n",
    "        \n",
    "        return (a*b)\n",
    "    elif shape == 2 : # Triangle\n",
    "        return (0.5 * a *b)\n",
    "    elif shape == 3: # circle\n",
    "        \n",
    "        return(pi * (a**2))\n",
    "    else:\n",
    "        print(\"Invalid input\")\n",
    "    \n",
    "a = 10\n",
    "shape = 3\n",
    "print(area_calulator(shape,a))"
   ]
  },
  {
   "cell_type": "markdown",
   "metadata": {},
   "source": [
    "Parameters and Return Values\n",
    "\n",
    "Functions can have:\n",
    "\n",
    "Positional Arguments\n",
    "\n",
    "Default Arguments\n",
    "\n",
    "Keyword Arguments\n",
    "\n",
    "Arbitrary Arguments (*args, **kwargs)"
   ]
  },
  {
   "cell_type": "code",
   "execution_count": 12,
   "metadata": {},
   "outputs": [
    {
     "name": "stdout",
     "output_type": "stream",
     "text": [
      "9\n",
      "27\n"
     ]
    }
   ],
   "source": [
    "# (Default & Keyword Arguments):\n",
    "def power(base, exponent=2):  \n",
    "    return base ** exponent\n",
    "\n",
    "print(power(3))  # Uses default exponent 2 → Output: 9\n",
    "print(power(3, 3))  # Custom exponent → Output: 27\n"
   ]
  },
  {
   "cell_type": "code",
   "execution_count": 17,
   "metadata": {},
   "outputs": [
    {
     "name": "stdout",
     "output_type": "stream",
     "text": [
      "2\n",
      "name: Alice\n",
      "age: 25\n",
      "city: New York\n"
     ]
    }
   ],
   "source": [
    "# (*args and **kwargs):\n",
    "def add_numbers(*args):\n",
    "    return sum(args)\n",
    "\n",
    "print(add_numbers(1,1))  # Output: 2\n",
    "\n",
    "def print_info(**kwargs):\n",
    "    for key, value in kwargs.items():\n",
    "        print(f\"{key}: {value}\")\n",
    "\n",
    "print_info(name=\"Alice\", age=25, city=\"New York\")\n"
   ]
  },
  {
   "cell_type": "markdown",
   "metadata": {},
   "source": [
    "Question 3\n",
    "Write a function multiply_all(*args) that multiplies all given numbers."
   ]
  },
  {
   "cell_type": "code",
   "execution_count": 22,
   "metadata": {},
   "outputs": [
    {
     "name": "stdout",
     "output_type": "stream",
     "text": [
      "120\n"
     ]
    }
   ],
   "source": [
    "import math\n",
    "\n",
    "def multiply_numbers(*args):\n",
    "    return math.prod(args) \n",
    "\n",
    "\n",
    "print(multiply_numbers(1, 2, 3, 4, 5)) \n"
   ]
  },
  {
   "cell_type": "markdown",
   "metadata": {},
   "source": [
    "Write a function string_analyzer(*args) that:\n",
    "\n",
    "Counts total characters in all arguments\n",
    "\n",
    "Counts the number of words (splitting by space)\n"
   ]
  },
  {
   "cell_type": "code",
   "execution_count": 31,
   "metadata": {},
   "outputs": [
    {
     "name": "stdout",
     "output_type": "stream",
     "text": [
      "(10, 3)\n"
     ]
    }
   ],
   "source": [
    "def string_analyzer(*args):\n",
    "    combined_string = \" \".join(args)  \n",
    "    char_count = len(combined_string)  \n",
    "    word_count = len(combined_string.split()) \n",
    "\n",
    "    return char_count, word_count \n",
    "\n",
    "# Example usage\n",
    "print(string_analyzer(\"I am Sumit\"))  \n",
    "\n"
   ]
  },
  {
   "cell_type": "markdown",
   "metadata": {},
   "source": [
    "#  2. Modules in Python "
   ]
  },
  {
   "cell_type": "code",
   "execution_count": 41,
   "metadata": {},
   "outputs": [
    {
     "name": "stdout",
     "output_type": "stream",
     "text": [
      "5.0\n",
      "3.141592653589793 1.4142135623730951\n",
      "4\n",
      "2025-03-27 10:19:44.375762\n"
     ]
    }
   ],
   "source": [
    "# a module is python file with .py extension that contains functions. classes or variables.\n",
    "import math\n",
    "print(math.sqrt(25))  \n",
    "\n",
    "from math import pi, sqrt\n",
    "print(pi,sqrt(2))  \n",
    "\n",
    "import random as r\n",
    "print(r.randint(1, 10))  \n",
    "\n",
    "from datetime import datetime as dt\n",
    "print(dt.now())  \n",
    "\n"
   ]
  },
  {
   "cell_type": "markdown",
   "metadata": {},
   "source": [
    "Question 4\n",
    "\n",
    "Use the random module to:\n",
    "\n",
    "Generate a random number between 1 and 100.\n",
    "\n",
    "Pick a random element from a list.\n",
    "\n",
    "Shuffle a list."
   ]
  },
  {
   "cell_type": "code",
   "execution_count": 88,
   "metadata": {},
   "outputs": [
    {
     "name": "stdout",
     "output_type": "stream",
     "text": [
      "Random Number: 93\n",
      "Random Element: cherry\n",
      "Shuffled List: ['cherry', 'elderberry', 'date', 'apple', 'banana']\n"
     ]
    }
   ],
   "source": [
    "import random\n",
    "\n",
    "random_number = random.randint(1, 100)\n",
    "\n",
    "my_list = [\"apple\", \"banana\", \"cherry\", \"date\", \"elderberry\"]\n",
    "random_element = random.choice(my_list)\n",
    "\n",
    "random.shuffle(my_list) \n",
    "\n",
    "# Output results\n",
    "print(f\"Random Number: {random_number}\")\n",
    "print(f\"Random Element: {random_element}\")\n",
    "print(f\"Shuffled List: {my_list}\")\n"
   ]
  },
  {
   "cell_type": "markdown",
   "metadata": {},
   "source": [
    "🔥 Challenge:\n",
    "\n",
    "Write a function roll_dice(n) that simulates rolling an n-sided die 5 times and returns the results."
   ]
  },
  {
   "cell_type": "code",
   "execution_count": 12,
   "metadata": {},
   "outputs": [
    {
     "name": "stdout",
     "output_type": "stream",
     "text": [
      "[6, 4, 3, 2, 4]\n"
     ]
    }
   ],
   "source": [
    "import random \n",
    "\n",
    "def roll_dice(n):\n",
    "    return [random.randint(1, n) for _ in range(5)] \n",
    "\n",
    "# Example usage\n",
    "print(roll_dice(6))  \n"
   ]
  },
  {
   "cell_type": "markdown",
   "metadata": {},
   "source": [
    "🚀 Final Tricky Challenges\n",
    "---\n",
    "Recursive Function:\n",
    "---------------------\n",
    "Write a function reverse_string(s) that recursively reverses a string.\n",
    "\n",
    "Lambda Expressions:\n",
    "---\n",
    "Write a lambda function that squares a number and another that returns the max of two numbers.\n",
    "\n",
    "Decorator Challenge:\n",
    "---\n",
    "Write a decorator timer(func) that measures how long a function takes to execute."
   ]
  },
  {
   "cell_type": "code",
   "execution_count": null,
   "metadata": {},
   "outputs": [],
   "source": []
  }
 ],
 "metadata": {
  "kernelspec": {
   "display_name": "venv3.12",
   "language": "python",
   "name": "python3"
  },
  "language_info": {
   "codemirror_mode": {
    "name": "ipython",
    "version": 3
   },
   "file_extension": ".py",
   "mimetype": "text/x-python",
   "name": "python",
   "nbconvert_exporter": "python",
   "pygments_lexer": "ipython3",
   "version": "3.12.0"
  }
 },
 "nbformat": 4,
 "nbformat_minor": 2
}
