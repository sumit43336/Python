{
 "cells": [
  {
   "cell_type": "code",
   "execution_count": 8,
   "metadata": {},
   "outputs": [
    {
     "name": "stdout",
     "output_type": "stream",
     "text": [
      "10 Sumit\n",
      "3 3 3.0\n"
     ]
    }
   ],
   "source": [
    "# Variable \n",
    "A = 10 #int\n",
    "Name = \"Sumit\"\n",
    "\n",
    "print(A,Name)\n",
    "# Casting\n",
    "x = str(3)    \n",
    "y = int(3)    \n",
    "z = float(3)\n",
    "print(x,y,z)\n",
    "# String\n",
    "B = 'sumit'\n",
    "# Case sensitive \n",
    "K = 10\n",
    "k = 9"
   ]
  },
  {
   "cell_type": "markdown",
   "metadata": {},
   "source": [
    "# Flow Control"
   ]
  },
  {
   "cell_type": "code",
   "execution_count": 14,
   "metadata": {},
   "outputs": [
    {
     "name": "stdout",
     "output_type": "stream",
     "text": [
      "yes\n",
      "Zero\n",
      "a is smaller\n",
      "x is greater\n",
      "Positive Even Number\n",
      "x is a single-digit positive number\n",
      "Apple is available!\n",
      "Python found in text!\n"
     ]
    }
   ],
   "source": [
    "# if-else statements\n",
    "a = 10\n",
    "if a <= 10:\n",
    "    print(\"yes\")\n",
    "else:\n",
    "    print(\"no\")\n",
    "\n",
    "# Multiple Condition\n",
    "num = 0\n",
    "if num > 0:\n",
    "    print(\"Positive\")\n",
    "elif num < 0:\n",
    "    print(\"Negative\")\n",
    "else:\n",
    "    print(\"Zero\")\n",
    "\n",
    "# Short hand If & else \n",
    "a = 5\n",
    "b = 10\n",
    "if a < b: print(\"a is smaller\")  # One-line if statement\n",
    "x = 20\n",
    "y = 15\n",
    "print(\"x is greater\") if x > y else print(\"y is greater\")  # One-line if-else\n",
    "\n",
    "# Nested if\n",
    "num = 10\n",
    "if num > 0:\n",
    "    if num % 2 == 0:\n",
    "        print(\"Positive Even Number\")\n",
    "    else:\n",
    "        print(\"Positive Odd Number\")\n",
    "else:\n",
    "    print(\"Negative Number\")\n",
    "\n",
    "\n",
    "# Logical Operations\n",
    "x = 7\n",
    "if x > 0 and x < 10:\n",
    "    print(\"x is a single-digit positive number\")\n",
    "\n",
    "# With List\n",
    "fruits = [\"apple\", \"banana\", \"cherry\"]\n",
    "if \"apple\" in fruits:\n",
    "    print(\"Apple is available!\")\n",
    "\n",
    "\n",
    "text = \"Hello Python\"\n",
    "if \"Python\" in text:\n",
    "    print(\"Python found in text!\")\n",
    "\n"
   ]
  },
  {
   "cell_type": "markdown",
   "metadata": {},
   "source": [
    "🟢 Beginner Level\n",
    "\n",
    "1️⃣ Write a program to check if a number is positive, negative, or zero.\n",
    "\n",
    "2️⃣ Check if a number is even or odd.\n",
    "\n",
    "3️⃣ Write a program to check if a person is eligible to vote (age ≥ 18).\n",
    "\n",
    "4️⃣ Given a string, check if it contains the letter 'a'.\n",
    "\n",
    "5️⃣ Check if a given number is a multiple of both 3 and 5."
   ]
  },
  {
   "cell_type": "code",
   "execution_count": 30,
   "metadata": {},
   "outputs": [
    {
     "name": "stdout",
     "output_type": "stream",
     "text": [
      "+ve\n",
      "Even\n",
      "Even\n",
      "Can vote in  17 Years\n",
      "Yes\n",
      "yes\n"
     ]
    }
   ],
   "source": [
    "# 1\n",
    "b = 11\n",
    "if b > 0 :\n",
    "    print(\"+ve\")\n",
    "elif b < 0 :\n",
    "    print(\"-ve\")\n",
    "else:\n",
    "    print(\"Zero\")\n",
    "\n",
    "\n",
    "# 2\n",
    "a = 10 \n",
    "if a % 2 == 0:\n",
    "    print(\"Even\")\n",
    "else:\n",
    "    print(\"Odd\")\n",
    "\n",
    "print(\"Even\")\n",
    "\n",
    "# 3\n",
    "age = 1\n",
    "if age >= 18:\n",
    "    print(\"Can vote\")\n",
    "else :\n",
    "    print(\"Can vote in \",(18 -age),\"Years\")\n",
    "\n",
    "# 4\n",
    "string = \"I am a Python Learner\"\n",
    "if \"a\" in string:\n",
    "    print(\"Yes\")\n",
    "\n",
    "# 5 \n",
    "a = 15\n",
    "if a % 3 == 0 & a % 5 == 0:\n",
    " print(\"yes\")"
   ]
  },
  {
   "cell_type": "markdown",
   "metadata": {},
   "source": [
    "🟠 Intermediate Level\n",
    "\n",
    "6️⃣ Write a program that takes three numbers and prints the largest one.\n",
    "\n",
    "7️⃣ Check if a year is a leap year (divisible by 4 but not by 100, unless also divisible by 400).\n",
    "\n",
    "8️⃣ Given a list of numbers, print whether the first and last elements are the same.\n",
    "\n",
    "9️⃣ Take a username and password input, and check if both match the correct values.\n",
    "\n",
    "🔟 Implement a basic grading system:\n",
    "\n",
    "90+: A\n",
    "\n",
    "80-89: B\n",
    "\n",
    "70-79: C\n",
    "\n",
    "60-69: D\n",
    "\n",
    "<60: F"
   ]
  },
  {
   "cell_type": "code",
   "execution_count": 85,
   "metadata": {},
   "outputs": [
    {
     "name": "stdout",
     "output_type": "stream",
     "text": [
      "12\n",
      "true\n",
      "YEs\n"
     ]
    }
   ],
   "source": [
    "# 6\n",
    "a,b,c = 10,11,12\n",
    "if a > b and a > c:\n",
    "    print(\"a\")\n",
    "elif b > a and b > c :\n",
    "    print(\"b\")\n",
    "else:\n",
    "    print(c)\n",
    "\n",
    "# 7 \n",
    "year = 20256\n",
    "if year % 3 == 0 or year % 400 == 0:\n",
    "    print(\"true\")  \n",
    "else:\n",
    "    print(\"nope\")\n",
    " \n",
    "# 8 \n",
    "list = [1,2,3,4,5,1]\n",
    "if list[0]==list[-1]:\n",
    "    print(\"YEs\")\n",
    "# 9 \n",
    "\n",
    "\n"
   ]
  },
  {
   "cell_type": "code",
   "execution_count": null,
   "metadata": {},
   "outputs": [],
   "source": []
  }
 ],
 "metadata": {
  "kernelspec": {
   "display_name": "venv3.12",
   "language": "python",
   "name": "python3"
  },
  "language_info": {
   "codemirror_mode": {
    "name": "ipython",
    "version": 3
   },
   "file_extension": ".py",
   "mimetype": "text/x-python",
   "name": "python",
   "nbconvert_exporter": "python",
   "pygments_lexer": "ipython3",
   "version": "3.12.0"
  }
 },
 "nbformat": 4,
 "nbformat_minor": 2
}
