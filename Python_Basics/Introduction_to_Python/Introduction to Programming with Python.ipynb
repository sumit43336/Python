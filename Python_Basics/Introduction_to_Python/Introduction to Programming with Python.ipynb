{
 "cells": [
  {
   "cell_type": "code",
   "execution_count": 8,
   "metadata": {},
   "outputs": [
    {
     "name": "stdout",
     "output_type": "stream",
     "text": [
      "10 Sumit\n",
      "3 3 3.0\n"
     ]
    }
   ],
   "source": [
    "# Variable \n",
    "A = 10 #int\n",
    "Name = \"Sumit\"\n",
    "\n",
    "print(A,Name)\n",
    "# Casting\n",
    "x = str(3)    \n",
    "y = int(3)    \n",
    "z = float(3)\n",
    "print(x,y,z)\n",
    "# String\n",
    "B = 'sumit'\n",
    "# Case sensitive \n",
    "K = 10\n",
    "k = 9"
   ]
  },
  {
   "cell_type": "markdown",
   "metadata": {},
   "source": [
    "# Flow Control"
   ]
  },
  {
   "cell_type": "code",
   "execution_count": 14,
   "metadata": {},
   "outputs": [
    {
     "name": "stdout",
     "output_type": "stream",
     "text": [
      "yes\n",
      "Zero\n",
      "a is smaller\n",
      "x is greater\n",
      "Positive Even Number\n",
      "x is a single-digit positive number\n",
      "Apple is available!\n",
      "Python found in text!\n"
     ]
    }
   ],
   "source": [
    "# if-else statements\n",
    "a = 10\n",
    "if a <= 10:\n",
    "    print(\"yes\")\n",
    "else:\n",
    "    print(\"no\")\n",
    "\n",
    "# Multiple Condition\n",
    "num = 0\n",
    "if num > 0:\n",
    "    print(\"Positive\")\n",
    "elif num < 0:\n",
    "    print(\"Negative\")\n",
    "else:\n",
    "    print(\"Zero\")\n",
    "\n",
    "# Short hand If & else \n",
    "a = 5\n",
    "b = 10\n",
    "if a < b: print(\"a is smaller\")  # One-line if statement\n",
    "x = 20\n",
    "y = 15\n",
    "print(\"x is greater\") if x > y else print(\"y is greater\")  # One-line if-else\n",
    "\n",
    "# Nested if\n",
    "num = 10\n",
    "if num > 0:\n",
    "    if num % 2 == 0:\n",
    "        print(\"Positive Even Number\")\n",
    "    else:\n",
    "        print(\"Positive Odd Number\")\n",
    "else:\n",
    "    print(\"Negative Number\")\n",
    "\n",
    "\n",
    "# Logical Operations\n",
    "x = 7\n",
    "if x > 0 and x < 10:\n",
    "    print(\"x is a single-digit positive number\")\n",
    "\n",
    "# With List\n",
    "fruits = [\"apple\", \"banana\", \"cherry\"]\n",
    "if \"apple\" in fruits:\n",
    "    print(\"Apple is available!\")\n",
    "\n",
    "\n",
    "text = \"Hello Python\"\n",
    "if \"Python\" in text:\n",
    "    print(\"Python found in text!\")\n",
    "\n"
   ]
  },
  {
   "cell_type": "markdown",
   "metadata": {},
   "source": [
    "🟢 Beginner Level\n",
    "\n",
    "1️⃣ Write a program to check if a number is positive, negative, or zero.\n",
    "\n",
    "2️⃣ Check if a number is even or odd.\n",
    "\n",
    "3️⃣ Write a program to check if a person is eligible to vote (age ≥ 18).\n",
    "\n",
    "4️⃣ Given a string, check if it contains the letter 'a'.\n",
    "\n",
    "5️⃣ Check if a given number is a multiple of both 3 and 5."
   ]
  },
  {
   "cell_type": "code",
   "execution_count": 30,
   "metadata": {},
   "outputs": [
    {
     "name": "stdout",
     "output_type": "stream",
     "text": [
      "+ve\n",
      "Even\n",
      "Even\n",
      "Can vote in  17 Years\n",
      "Yes\n",
      "yes\n"
     ]
    }
   ],
   "source": [
    "# 1\n",
    "b = 11\n",
    "if b > 0 :\n",
    "    print(\"+ve\")\n",
    "elif b < 0 :\n",
    "    print(\"-ve\")\n",
    "else:\n",
    "    print(\"Zero\")\n",
    "\n",
    "\n",
    "# 2\n",
    "a = 10 \n",
    "if a % 2 == 0:\n",
    "    print(\"Even\")\n",
    "else:\n",
    "    print(\"Odd\")\n",
    "\n",
    "print(\"Even\")\n",
    "\n",
    "# 3\n",
    "age = 1\n",
    "if age >= 18:\n",
    "    print(\"Can vote\")\n",
    "else :\n",
    "    print(\"Can vote in \",(18 -age),\"Years\")\n",
    "\n",
    "# 4\n",
    "string = \"I am a Python Learner\"\n",
    "if \"a\" in string:\n",
    "    print(\"Yes\")\n",
    "\n",
    "# 5 \n",
    "a = 15\n",
    "if a % 3 == 0 & a % 5 == 0:\n",
    " print(\"yes\")"
   ]
  },
  {
   "cell_type": "markdown",
   "metadata": {},
   "source": [
    "🟠 Intermediate Level\n",
    "\n",
    "6️⃣ Write a program that takes three numbers and prints the largest one.\n",
    "\n",
    "7️⃣ Check if a year is a leap year (divisible by 4 but not by 100, unless also divisible by 400).\n",
    "\n",
    "8️⃣ Given a list of numbers, print whether the first and last elements are the same.\n",
    "\n",
    "9️⃣ Take a username and password input, and check if both match the correct values.\n",
    "\n",
    "🔟 Implement a basic grading system:\n",
    "\n",
    "90+: A\n",
    "\n",
    "80-89: B\n",
    "\n",
    "70-79: C\n",
    "\n",
    "60-69: D\n",
    "\n",
    "<60: F"
   ]
  },
  {
   "cell_type": "code",
   "execution_count": null,
   "metadata": {},
   "outputs": [
    {
     "name": "stdout",
     "output_type": "stream",
     "text": [
      "12\n",
      "nope\n",
      "YEs\n",
      "Invalid username or password.\n",
      "A+\n"
     ]
    }
   ],
   "source": [
    "# 6\n",
    "a,b,c = 10,11,12\n",
    "if a > b and a > c:\n",
    "    print(\"a\")\n",
    "elif b > a and b > c :\n",
    "    print(\"b\")\n",
    "else:\n",
    "    print(c)\n",
    "\n",
    "# 7 \n",
    "year = 100\n",
    "if (year % 4 == 0 and year % 100 != 0) or (year % 400 == 0):\n",
    "    print(\"true\")\n",
    "else:\n",
    "    print(\"nope\")\n",
    "\n",
    "# 8 \n",
    "my_list = [1,2,3,4,5,1]\n",
    "if my_list[0]==my_list[-1]:\n",
    "    print(\"YEs\")\n",
    "# 9 \n",
    "correct_username = \"admin\"\n",
    "correct_password = \"password123\"\n",
    "\n",
    "username = input(\"Enter username: \")\n",
    "password = input(\"Enter password: \")\n",
    "\n",
    "if username == correct_username and password == correct_password:\n",
    "    print(\"Login successful!\")\n",
    "else:\n",
    "    print(\"Invalid username or password.\")\n",
    "\n",
    "# 10 \n",
    "grade = 100\n",
    "if grade >= 90:\n",
    "    print(\"A+\")\n",
    "elif grade >= 80:\n",
    "    print(\"A\")\n",
    "elif grade >= 70:\n",
    "    print(\"B\")\n",
    "elif grade >= 60:\n",
    "    print(\"C\")\n",
    "else:\n",
    "    print(\"F\")\n",
    "\n"
   ]
  },
  {
   "cell_type": "markdown",
   "metadata": {},
   "source": [
    "⚡ Challenge 1:\n",
    "\n",
    "Write a Python program to check if three sides can form a valid triangle.\n",
    "\n",
    "(Hint: A triangle is valid if the sum of any two sides is greater than the third.)\n",
    "\n",
    "⚡ Challenge 2:\n",
    "\n",
    "You have a list of numbers. Print \"Found!\" if there is a number divisible by 7 and 9. If not, print \"Not Found!\"\n",
    "\n",
    "⚡ Challenge 3:\n",
    "\n",
    "A user enters a string. If the string length is even, print \"EVEN\", else print \"ODD\". If the length is a multiple of 4, print \"FOUR MULTIPLE\".\n",
    "\n",
    "⚡ Challenge 4:\n",
    "\n",
    "Write a program that simulates a rock-paper-scissors game between the user and the computer (random choice).\n",
    "\n",
    "⚡ Challenge 5 (Extreme!)\n",
    "\n",
    "Write a one-liner Python code that returns \"Divisible by both\" if a number is divisible by both 4 and 6, \"Divisible by 4 only\" if only divisible by 4, \"Divisible by 6 \n",
    "\n",
    "only\" if only by 6, otherwise \"Not divisible\".\n"
   ]
  },
  {
   "cell_type": "code",
   "execution_count": 16,
   "metadata": {},
   "outputs": [
    {
     "name": "stdout",
     "output_type": "stream",
     "text": [
      "Valid triangle\n",
      "Found!\n",
      "Even\n",
      "You chose: 4\n",
      "Computer chose: rock\n",
      "You lose!\n",
      "Not divisible by 4 or 6\n"
     ]
    }
   ],
   "source": [
    "# challange 1:\n",
    "a = 10\n",
    "b = 10\n",
    "c = 10\n",
    "\n",
    "if a + b > c and a + c > b and b + c > a:\n",
    "    print(\"Valid triangle\")\n",
    "else:\n",
    "    print(\"Invalid triangle\")\n",
    "\n",
    "# Challange 2\n",
    "a = [1,3,4,6,7,8,9,10]\n",
    "numbers = [10, 18, 21, 63, 45]  # Example list\n",
    "\n",
    "print(\"Found!\" if any(num % 7 == 0 and num % 9 == 0 for num in numbers) else \"Not Found!\")\n",
    "\n",
    "# Challange 3 \n",
    "a = \"String\"\n",
    "length = len(a)  \n",
    "if length % 2 ==0:\n",
    "    print(\"Even\")\n",
    "else:\n",
    "    print(\"Odd\")\n",
    "\n",
    "# Challange 4\n",
    "import random\n",
    "\n",
    "choices = [\"rock\", \"paper\", \"scissors\"]\n",
    "\n",
    "user_choice = input(\"Enter rock, paper, or scissors: \").lower()\n",
    "\n",
    "\n",
    "computer_choice = random.choice(choices)\n",
    "\n",
    "print(f\"You chose: {user_choice}\")\n",
    "print(f\"Computer chose: {computer_choice}\")\n",
    "\n",
    "if user_choice == computer_choice:\n",
    "    print(\"It's a tie!\")\n",
    "elif (user_choice == \"rock\" and computer_choice == \"scissors\") or \\\n",
    "     (user_choice == \"paper\" and computer_choice == \"rock\") or \\\n",
    "     (user_choice == \"scissors\" and computer_choice == \"paper\"):\n",
    "    print(\"You win!\")\n",
    "else:\n",
    "    print(\"You lose!\")\n",
    "\n",
    "# Challange 5\n",
    "np = int(input(\"Enter a number: \"))\n",
    "\n",
    "print(\"Divisible by both 4 and 6\" if np % 4 == 0 and np % 6 == 0 else \n",
    "      \"Divisible by 4\" if np % 4 == 0 else \n",
    "      \"Divisible by 6\" if np % 6 == 0 else \n",
    "      \"Not divisible by 4 or 6\")\n",
    "\n"
   ]
  },
  {
   "cell_type": "markdown",
   "metadata": {},
   "source": [
    "💡 FINAL BOSS CHALLENGE!\n",
    "\n",
    "Write a Python program that checks if a given 6-digit number is a lucky number. A number is lucky if the sum of its first three digits equals the sum of its last three digits.\n",
    "\n",
    "Example: 123321 is lucky (1+2+3 == 3+2+1).\n"
   ]
  },
  {
   "cell_type": "code",
   "execution_count": 17,
   "metadata": {},
   "outputs": [
    {
     "name": "stdout",
     "output_type": "stream",
     "text": [
      "Magic Number\n"
     ]
    }
   ],
   "source": [
    "i = \"111111\"\n",
    "if i[0]+i[1]+i[2] == i[-1]+i[-2]+i[-3]:\n",
    "    print(\"Magic Number\")"
   ]
  },
  {
   "cell_type": "code",
   "execution_count": null,
   "metadata": {},
   "outputs": [],
   "source": []
  }
 ],
 "metadata": {
  "kernelspec": {
   "display_name": "venv310",
   "language": "python",
   "name": "python3"
  },
  "language_info": {
   "codemirror_mode": {
    "name": "ipython",
    "version": 3
   },
   "file_extension": ".py",
   "mimetype": "text/x-python",
   "name": "python",
   "nbconvert_exporter": "python",
   "pygments_lexer": "ipython3",
   "version": "3.10.0"
  }
 },
 "nbformat": 4,
 "nbformat_minor": 2
}
