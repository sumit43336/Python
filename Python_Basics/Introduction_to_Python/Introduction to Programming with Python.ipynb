{
 "cells": [
  {
   "cell_type": "code",
   "execution_count": 8,
   "metadata": {},
   "outputs": [
    {
     "name": "stdout",
     "output_type": "stream",
     "text": [
      "10 Sumit\n",
      "3 3 3.0\n"
     ]
    }
   ],
   "source": [
    "# Variable \n",
    "A = 10 #int\n",
    "Name = \"Sumit\"\n",
    "\n",
    "print(A,Name)\n",
    "# Casting\n",
    "x = str(3)    \n",
    "y = int(3)    \n",
    "z = float(3)\n",
    "print(x,y,z)\n",
    "# String\n",
    "B = 'sumit'\n",
    "# Case sensitive \n",
    "K = 10\n",
    "k = 9"
   ]
  },
  {
   "cell_type": "code",
   "execution_count": null,
   "metadata": {},
   "outputs": [],
   "source": []
  }
 ],
 "metadata": {
  "kernelspec": {
   "display_name": "venv3.12",
   "language": "python",
   "name": "python3"
  },
  "language_info": {
   "codemirror_mode": {
    "name": "ipython",
    "version": 3
   },
   "file_extension": ".py",
   "mimetype": "text/x-python",
   "name": "python",
   "nbconvert_exporter": "python",
   "pygments_lexer": "ipython3",
   "version": "3.12.0"
  }
 },
 "nbformat": 4,
 "nbformat_minor": 2
}
