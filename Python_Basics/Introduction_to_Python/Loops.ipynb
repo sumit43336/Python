{
 "cells": [
  {
   "cell_type": "markdown",
   "metadata": {},
   "source": [
    "# Practice\n",
    "✅ Easy\n",
    "\n",
    "1️⃣ Print numbers from 1 to 10 using a for loop.\n",
    "\n",
    "2️⃣ Print even numbers from 2 to 20 using a while loop.\n",
    "\n",
    "3️⃣ Print the characters of a string in reverse order."
   ]
  },
  {
   "cell_type": "code",
   "execution_count": 18,
   "metadata": {},
   "outputs": [
    {
     "name": "stdout",
     "output_type": "stream",
     "text": [
      "1\n",
      "2\n",
      "3\n",
      "4\n",
      "5\n",
      "6\n",
      "7\n",
      "8\n",
      "9\n",
      "10\n"
     ]
    }
   ],
   "source": [
    "a = 10\n",
    "for i in range(1, a + 1): \n",
    "    print(i)\n"
   ]
  },
  {
   "cell_type": "code",
   "execution_count": 25,
   "metadata": {},
   "outputs": [
    {
     "name": "stdout",
     "output_type": "stream",
     "text": [
      "2\n",
      "4\n",
      "6\n",
      "8\n",
      "10\n",
      "12\n",
      "14\n",
      "16\n",
      "18\n",
      "20\n"
     ]
    }
   ],
   "source": [
    "a = 20\n",
    "for i in range(2, a + 1, 2): \n",
    "    print(i)\n"
   ]
  },
  {
   "cell_type": "code",
   "execution_count": 30,
   "metadata": {},
   "outputs": [
    {
     "name": "stdout",
     "output_type": "stream",
     "text": [
      "g\n",
      "n\n",
      "i\n",
      "r\n",
      "t\n",
      "S\n"
     ]
    }
   ],
   "source": [
    "a = \"String\"\n",
    "\n",
    "for i in reversed(a):\n",
    "    print(i)\n"
   ]
  },
  {
   "cell_type": "markdown",
   "metadata": {},
   "source": [
    "✅ Medium\n",
    "\n",
    "4️⃣ Print the sum of all numbers from 1 to 100.\n",
    "\n",
    "5️⃣ Count how many times \"Python\" appears in a list.\n",
    "\n",
    "6️⃣ Find the largest number in a list using a loop."
   ]
  },
  {
   "cell_type": "code",
   "execution_count": 37,
   "metadata": {},
   "outputs": [
    {
     "name": "stdout",
     "output_type": "stream",
     "text": [
      "5050\n"
     ]
    }
   ],
   "source": [
    "a = 100\n",
    "sum = 0\n",
    "for i in range (a+1):\n",
    "    sum = sum +i\n",
    "print(sum)"
   ]
  },
  {
   "cell_type": "code",
   "execution_count": 47,
   "metadata": {},
   "outputs": [
    {
     "name": "stdout",
     "output_type": "stream",
     "text": [
      "3\n"
     ]
    }
   ],
   "source": [
    "a = [\"my\", \"name\", \"is\", \"python\", \"and\", \"python\", \"is\", \"the\", \"langua\", \"is\", \"what\", \"i\", \"am\", \"learning.\", \"Python\", \"is\", \"good\"]\n",
    "\n",
    "count = b.count(\"python\") \n",
    "print(count)\n"
   ]
  },
  {
   "cell_type": "code",
   "execution_count": 53,
   "metadata": {},
   "outputs": [
    {
     "name": "stdout",
     "output_type": "stream",
     "text": [
      "direct 10\n",
      "10\n"
     ]
    }
   ],
   "source": [
    "a = [1,2,3,4,5,6,7,8,9,0,10]\n",
    "b = max(a)\n",
    "print(\"direct\",b)\n",
    "max_value = a[0]  # Assume the first element is the maximum\n",
    "\n",
    "for i in a:\n",
    "    if i > max_value:  # If a larger value is found, update max_value\n",
    "        max_value = i\n",
    "\n",
    "print(max_value)\n"
   ]
  },
  {
   "attachments": {
    "image.png": {
     "image/png": "[encoded data removed]"
    }
   },
   "cell_type": "markdown",
   "metadata": {},
   "source": [
    "✅ Hard\n",
    "\n",
    "7️⃣ Print all prime numbers from 1 to 50.\n",
    "\n",
    "8️⃣ Print this pattern using loops:\n",
    "\n",
    "markdown\n",
    "\n",
    "![image.png](attachment:image.png)\n",
    "\n",
    "\n",
    "9️⃣ Reverse a number (e.g., 12345 → 54321)."
   ]
  },
  {
   "cell_type": "code",
   "execution_count": null,
   "metadata": {},
   "outputs": [],
   "source": []
  },
  {
   "cell_type": "markdown",
   "metadata": {},
   "source": [
    "# For loop"
   ]
  },
  {
   "cell_type": "code",
   "execution_count": 3,
   "metadata": {},
   "outputs": [
    {
     "name": "stdout",
     "output_type": "stream",
     "text": [
      "1\n",
      "2\n",
      "3\n",
      "4\n",
      "5\n"
     ]
    }
   ],
   "source": [
    "numbers = [1, 2, 3, 4, 5]\n",
    "for num in numbers:\n",
    "    print(num)"
   ]
  },
  {
   "cell_type": "code",
   "execution_count": 4,
   "metadata": {},
   "outputs": [
    {
     "name": "stdout",
     "output_type": "stream",
     "text": [
      "0\n",
      "1\n",
      "2\n",
      "3\n",
      "4\n"
     ]
    }
   ],
   "source": [
    "for i in range(5):  # Loops from 0 to 4\n",
    "    print(i)"
   ]
  },
  {
   "cell_type": "code",
   "execution_count": 8,
   "metadata": {},
   "outputs": [
    {
     "name": "stdout",
     "output_type": "stream",
     "text": [
      "P\n",
      "y\n",
      "t\n",
      "h\n",
      "o\n",
      "n\n"
     ]
    }
   ],
   "source": [
    "for char in \"Python\":\n",
    "    print(char)\n"
   ]
  },
  {
   "cell_type": "markdown",
   "metadata": {},
   "source": [
    "# While loop"
   ]
  },
  {
   "cell_type": "code",
   "execution_count": 9,
   "metadata": {},
   "outputs": [
    {
     "name": "stdout",
     "output_type": "stream",
     "text": [
      "0\n",
      "1\n",
      "2\n",
      "3\n",
      "4\n"
     ]
    }
   ],
   "source": [
    "x = 0\n",
    "while x < 5:\n",
    "    print(x)\n",
    "    x += 1  # Increment x to avoid infinite loop\n"
   ]
  },
  {
   "cell_type": "code",
   "execution_count": null,
   "metadata": {},
   "outputs": [],
   "source": []
  }
 ],
 "metadata": {
  "kernelspec": {
   "display_name": "venv3.12",
   "language": "python",
   "name": "python3"
  },
  "language_info": {
   "codemirror_mode": {
    "name": "ipython",
    "version": 3
   },
   "file_extension": ".py",
   "mimetype": "text/x-python",
   "name": "python",
   "nbconvert_exporter": "python",
   "pygments_lexer": "ipython3",
   "version": "3.12.0"
  }
 },
 "nbformat": 4,
 "nbformat_minor": 2
}
